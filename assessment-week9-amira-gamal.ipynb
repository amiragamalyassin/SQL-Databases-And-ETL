{
 "cells": [
  {
   "cell_type": "code",
   "execution_count": 1,
   "id": "55da405e",
   "metadata": {
    "_cell_guid": "b1076dfc-b9ad-4769-8c92-a6c4dae69d19",
    "_uuid": "8f2839f25d086af736a60e9eeb907d3b93b6e0e5",
    "execution": {
     "iopub.execute_input": "2021-08-29T16:13:47.530460Z",
     "iopub.status.busy": "2021-08-29T16:13:47.529743Z",
     "iopub.status.idle": "2021-08-29T16:13:47.533514Z",
     "shell.execute_reply": "2021-08-29T16:13:47.532891Z",
     "shell.execute_reply.started": "2021-08-29T15:38:48.402538Z"
    },
    "papermill": {
     "duration": 0.04217,
     "end_time": "2021-08-29T16:13:47.533677",
     "exception": false,
     "start_time": "2021-08-29T16:13:47.491507",
     "status": "completed"
    },
    "tags": []
   },
   "outputs": [],
   "source": [
    "# This Python 3 environment comes with many helpful analytics libraries installed\n",
    "# It is defined by the kaggle/python Docker image: https://github.com/kaggle/docker-python\n",
    "# For example, here's several helpful packages to load\n",
    "\n",
    "import numpy as np # linear algebra\n",
    "import pandas as pd # data processing, CSV file I/O (e.g. pd.read_csv)\n",
    "\n",
    "# Input data files are available in the read-only \"../input/\" directory\n",
    "# For example, running this (by clicking run or pressing Shift+Enter) will list all files under the input directory\n",
    "\n",
    "import os\n",
    "for dirname, _, filenames in os.walk('/kaggle/input'):\n",
    "    for filename in filenames:\n",
    "        print(os.path.join(dirname, filename))\n",
    "\n",
    "# You can write up to 20GB to the current directory (/kaggle/working/) that gets preserved as output when you create a version using \"Save & Run All\" \n",
    "# You can also write temporary files to /kaggle/temp/, but they won't be saved outside of the current session"
   ]
  },
  {
   "cell_type": "markdown",
   "id": "12325b9a",
   "metadata": {
    "papermill": {
     "duration": 0.026494,
     "end_time": "2021-08-29T16:13:47.586049",
     "exception": false,
     "start_time": "2021-08-29T16:13:47.559555",
     "status": "completed"
    },
    "tags": []
   },
   "source": [
    "What is DBMS?\n",
    "A database management system, sometimes known as a DBMS, is a computerised data storage system. Users of the system are given the ability to execute a variety of actions on it, such as manipulating the data in the database or managing the database structure itself. The data structures or types of Database Management Systems (DBMSs) are classified."
   ]
  },
  {
   "cell_type": "markdown",
   "id": "cd1ab31b",
   "metadata": {
    "papermill": {
     "duration": 0.024787,
     "end_time": "2021-08-29T16:13:47.636436",
     "exception": false,
     "start_time": "2021-08-29T16:13:47.611649",
     "status": "completed"
    },
    "tags": []
   },
   "source": [
    "What is RDBMS?\n",
    "Stands for \"Relational Database Management System.\" An RDBMS is a DBMS designed specifically for relational databases. A relational database is one that uses rows and columns to store data in a structured way. This makes finding and accessing certain values within the database a breeze. Because the values in each table are related to one another, it is called \"relational.\" Tables can also be linked to one another. Because of the relational nature, queries can be conducted on several tables at the same time."
   ]
  },
  {
   "cell_type": "markdown",
   "id": "ebd0fe24",
   "metadata": {
    "papermill": {
     "duration": 0.024592,
     "end_time": "2021-08-29T16:13:47.686877",
     "exception": false,
     "start_time": "2021-08-29T16:13:47.662285",
     "status": "completed"
    },
    "tags": []
   },
   "source": [
    "What is SQL?\n",
    "Structured Query Language is a domain-specific language used in programming and designed for managing data held in a relational database management system (RDBMS), or for stream processing in a relational data stream management system (RDSMS)."
   ]
  },
  {
   "cell_type": "markdown",
   "id": "cf48f4ce",
   "metadata": {
    "papermill": {
     "duration": 0.024604,
     "end_time": "2021-08-29T16:13:47.736390",
     "exception": false,
     "start_time": "2021-08-29T16:13:47.711786",
     "status": "completed"
    },
    "tags": []
   },
   "source": [
    "What is a Database?\n",
    "A database is an organized collection of structured information, or data, typically stored electronically in a computer system."
   ]
  },
  {
   "cell_type": "markdown",
   "id": "15237914",
   "metadata": {
    "papermill": {
     "duration": 0.024652,
     "end_time": "2021-08-29T16:13:47.786981",
     "exception": false,
     "start_time": "2021-08-29T16:13:47.762329",
     "status": "completed"
    },
    "tags": []
   },
   "source": [
    "What are tables and Fields? A table is a collection of related data held in a table format within a database. A field is a data structure for a single piece of data. Fields are organized into records, which contain all the information within the table.\n"
   ]
  },
  {
   "cell_type": "markdown",
   "id": "86fc835f",
   "metadata": {
    "papermill": {
     "duration": 0.024662,
     "end_time": "2021-08-29T16:13:47.836685",
     "exception": false,
     "start_time": "2021-08-29T16:13:47.812023",
     "status": "completed"
    },
    "tags": []
   },
   "source": [
    "What is a primary key?\n",
    "In a relational database, a primary key, sometimes known as a primary keyword, is a key that is unique for each record."
   ]
  },
  {
   "cell_type": "markdown",
   "id": "2c125018",
   "metadata": {
    "papermill": {
     "duration": 0.024729,
     "end_time": "2021-08-29T16:13:47.886565",
     "exception": false,
     "start_time": "2021-08-29T16:13:47.861836",
     "status": "completed"
    },
    "tags": []
   },
   "source": [
    "What is a unique key?\n",
    "A group of one or more table fields/columns that uniquely identify a record in a database table is known as a unique key."
   ]
  },
  {
   "cell_type": "markdown",
   "id": "12326f80",
   "metadata": {
    "papermill": {
     "duration": 0.025548,
     "end_time": "2021-08-29T16:13:47.937334",
     "exception": false,
     "start_time": "2021-08-29T16:13:47.911786",
     "status": "completed"
    },
    "tags": []
   },
   "source": [
    "What is a foreign key?\n",
    "A foreign key is a column or group of columns in a relational database table that provides a link between data in two tables."
   ]
  },
  {
   "cell_type": "markdown",
   "id": "fed847b0",
   "metadata": {
    "papermill": {
     "duration": 0.027404,
     "end_time": "2021-08-29T16:13:47.990026",
     "exception": false,
     "start_time": "2021-08-29T16:13:47.962622",
     "status": "completed"
    },
    "tags": []
   },
   "source": [
    "What is a join?\n",
    "JOIN query combines records from two tables. A JOIN locates related column values in the two tables"
   ]
  },
  {
   "cell_type": "markdown",
   "id": "92bb8c04",
   "metadata": {
    "papermill": {
     "duration": 0.025263,
     "end_time": "2021-08-29T16:13:48.040591",
     "exception": false,
     "start_time": "2021-08-29T16:13:48.015328",
     "status": "completed"
    },
    "tags": []
   },
   "source": [
    "What are the types of join and explain each?\n",
    "1- Inner Join\n",
    "\n",
    "Inner join returns only those records/rows that match/exists in both the tables.\n",
    "\n",
    "2- Outer Join\n",
    "\n",
    "There are three types of Outer Join: Left Outer Join: returns all records/rows from left table and from right table returns only matched records. If there are no columns matching in the right table, it returns NULL values.\n",
    "\n",
    "Right Outer Join: returns all records/rows from right table and from left table returns only matched records. If there are no columns matching in the left table, it returns NULL values.\n",
    "\n",
    "Full Outer Join: combines left outer join and right outer join. This join returns all records/rows from both the tables.If there are no columns matching in the both tables, it returns NULL values.\n",
    "\n",
    "3- Cross Join\n",
    "Cross join is a cartesian join means cartesian product of both the tables. This join does not need any condition to join two tables. This join returns records/rows that are multiplication of record number from both the tables means each row on left table will related to each row of right table.\n",
    "\n",
    "4- Self Join\n",
    "\n",
    "Self join is used to join a database table to itself, particularly when the table has a Foreign key that references its own Primary Key. Basically we have only three types of joins : Inner join, Outer join and Cross join. We use any of these three JOINS to join a table to itself. Hence Self join is not a type of Sql join."
   ]
  },
  {
   "cell_type": "markdown",
   "id": "4456d7de",
   "metadata": {
    "papermill": {
     "duration": 0.025257,
     "end_time": "2021-08-29T16:13:48.091021",
     "exception": false,
     "start_time": "2021-08-29T16:13:48.065764",
     "status": "completed"
    },
    "tags": []
   },
   "source": [
    "What is normalization?\n",
    "Normalization is the process of organizing data into a related table; it also eliminates redundancy and increases the integrity which improves performance of the query. To normalize a database, we divide the database into tables and establish relationships between the tables"
   ]
  },
  {
   "cell_type": "markdown",
   "id": "731a8e2b",
   "metadata": {
    "papermill": {
     "duration": 0.025546,
     "end_time": "2021-08-29T16:13:48.141701",
     "exception": false,
     "start_time": "2021-08-29T16:13:48.116155",
     "status": "completed"
    },
    "tags": []
   },
   "source": [
    "What is Denormalization?\n",
    "Denormalization is the process of adding precomputed redundant data to an otherwise normalized relational database to improve read performance of the database. Normalizing a database involves removing redundancy so only a single copy exists of each piece of information."
   ]
  },
  {
   "cell_type": "markdown",
   "id": "56c591b3",
   "metadata": {
    "papermill": {
     "duration": 0.024803,
     "end_time": "2021-08-29T16:13:48.191806",
     "exception": false,
     "start_time": "2021-08-29T16:13:48.167003",
     "status": "completed"
    },
    "tags": []
   },
   "source": [
    " What are all the different normalizations?\n",
    "\n",
    "The database normalization process is further categorized into the following types:\n",
    "\n",
    "First Normal Form (1 NF) Second Normal Form (2 NF) Third Normal Form (3 NF) Boyce Codd Normal Form or Fourth Normal Form ( BCNF or 4 NF) Fifth Normal Form (5 NF) Sixth Normal Form (6 NF)\n",
    "\n",
    "13B. The normal forms can be divided into 5 forms, explain below -.\n",
    "\n",
    "First Normal Form (1NF): In the first normal form, only single values are permitted at the intersection of each row and column; hence, there are no repeating groups.\n",
    "\n",
    "To normalize a relation that contains a repeating group, remove the repeating group and form two new relations.\n",
    "\n",
    "Second Normal Form (2NF): For the second normal form, the relation must first be in 1NF. The relation is automatically in 2NF if, and only if, the PK comprises a single attribute.\n",
    "\n",
    "Third Normal Form (3NF): To be in third normal form, the relation must be in second normal form. Also all transitive dependencies must be removed; a non-key attribute may not be functionally dependent on another non-key attribute.\n",
    "\n",
    "Boyce-Codd Normal Form (BCNF): When a table has more than one candidate key, anomalies may result even though the relation is in 3NF. Boyce-Codd normal form is a special case of 3NF. A relation is in BCNF if, and only if, every determinant is a candidate key.\n",
    "\n",
    "Elementary key normal form or EKNF: It the improve version of the third normal form, thus generally EKNF is itself in 3rd Normal Form. When there is more than one unique compound key and the keys are overlapped then this leads to the redundancy in the overlapping column.\n",
    "\n"
   ]
  },
  {
   "cell_type": "markdown",
   "id": "45652a5a",
   "metadata": {
    "papermill": {
     "duration": 0.02469,
     "end_time": "2021-08-29T16:13:48.241551",
     "exception": false,
     "start_time": "2021-08-29T16:13:48.216861",
     "status": "completed"
    },
    "tags": []
   },
   "source": [
    "What is a View?\n",
    "A VIEW in SQL Server is like a virtual table that contains data from one or multiple tables. It does not hold any data and does not exist physically in the database. ... It contains a set of predefined SQL queries to fetch data from the database. It can contain database tables from single or multiple databases as well"
   ]
  },
  {
   "cell_type": "markdown",
   "id": "740a8256",
   "metadata": {
    "papermill": {
     "duration": 0.024893,
     "end_time": "2021-08-29T16:13:48.291412",
     "exception": false,
     "start_time": "2021-08-29T16:13:48.266519",
     "status": "completed"
    },
    "tags": []
   },
   "source": [
    "What is an Index?\n",
    "An index contains keys built from one or more columns in the table or view."
   ]
  },
  {
   "cell_type": "markdown",
   "id": "c0654fb2",
   "metadata": {
    "papermill": {
     "duration": 0.025468,
     "end_time": "2021-08-29T16:13:48.341851",
     "exception": false,
     "start_time": "2021-08-29T16:13:48.316383",
     "status": "completed"
    },
    "tags": []
   },
   "source": [
    "16A. What are all the different types of indexes?\n",
    "\n",
    "Clustered Index Non-Clustered Index Column Store Index Filtered Index Hash Index Unique Index\n",
    "\n",
    "16B. There are three types of indexes -List and explain.\n",
    "\n",
    "Unique Index: This index does not allow the field to have duplicate values if the column is unique indexed. If a primary key is defined, a unique index can be applied automatically.\n",
    "\n",
    "Clustered Index: This index reorders the physical order of the table and searches based on the basis of key values. Each table can only have one clustered index.\n",
    "\n",
    "Non-Clustered Index:\n",
    "\n",
    "Non-Clustered Index does not alter the physical order of the table and maintains a logical order of the data. Each table can have many nonclustered indexes."
   ]
  },
  {
   "cell_type": "markdown",
   "id": "933f797e",
   "metadata": {
    "papermill": {
     "duration": 0.024856,
     "end_time": "2021-08-29T16:13:48.391764",
     "exception": false,
     "start_time": "2021-08-29T16:13:48.366908",
     "status": "completed"
    },
    "tags": []
   },
   "source": [
    "What is a Cursor?\n",
    "\n",
    "cursor is an indicator used to show the current position for user interaction on a computer monitor or other display device that will respond to input from a text input or pointing device"
   ]
  },
  {
   "cell_type": "markdown",
   "id": "7df3efc3",
   "metadata": {
    "papermill": {
     "duration": 0.025269,
     "end_time": "2021-08-29T16:13:48.442137",
     "exception": false,
     "start_time": "2021-08-29T16:13:48.416868",
     "status": "completed"
    },
    "tags": []
   },
   "source": [
    "What is a query?\n",
    "A query is a statement that consists of zero or more variable declarations followed by single SELECT expression.\n"
   ]
  },
  {
   "cell_type": "markdown",
   "id": "896c9a55",
   "metadata": {
    "papermill": {
     "duration": 0.024713,
     "end_time": "2021-08-29T16:13:48.491801",
     "exception": false,
     "start_time": "2021-08-29T16:13:48.467088",
     "status": "completed"
    },
    "tags": []
   },
   "source": [
    "What is subquery?\n",
    "A subquery, or nested query, is a query placed within another SQL query.\n",
    "\n"
   ]
  },
  {
   "cell_type": "markdown",
   "id": "8edd9c6e",
   "metadata": {
    "papermill": {
     "duration": 0.024766,
     "end_time": "2021-08-29T16:13:48.541676",
     "exception": false,
     "start_time": "2021-08-29T16:13:48.516910",
     "status": "completed"
    },
    "tags": []
   },
   "source": [
    "What are the types of subquery?\n",
    "\n",
    "Single Row Subquery\n",
    "\n",
    "Returns zero or one row in results.\n",
    "\n",
    "Multiple Row Subquery\n",
    "Returns one or more rows in results.\n",
    "\n",
    "Multiple Column Subqueries\n",
    "Returns one or more columns\n",
    "\n",
    "Correlated Subqueries\n",
    "Returns one or more columns according to the main or the outer query, thus called a correlated subquery.\n",
    "\n",
    "Nested Subqueries\n",
    "We have queries within a query(inner and outer query)."
   ]
  },
  {
   "cell_type": "markdown",
   "id": "d8525c7e",
   "metadata": {
    "papermill": {
     "duration": 0.029305,
     "end_time": "2021-08-29T16:13:48.596366",
     "exception": false,
     "start_time": "2021-08-29T16:13:48.567061",
     "status": "completed"
    },
    "tags": []
   },
   "source": [
    "What is a stored procedure?\n",
    "A stored procedure is a prepared SQL code that you can save, so the code can be reused over and over again. So if you have an SQL query that you write over and over again, save it as a stored procedure, and then just call it to execute it."
   ]
  },
  {
   "cell_type": "markdown",
   "id": "6e26cf9b",
   "metadata": {
    "papermill": {
     "duration": 0.030861,
     "end_time": "2021-08-29T16:13:48.659758",
     "exception": false,
     "start_time": "2021-08-29T16:13:48.628897",
     "status": "completed"
    },
    "tags": []
   },
   "source": [
    "What is a trigger?\n",
    "In SQL Server, triggers are database objects, actually, a special kind of stored procedure, which “reacts” to certain actions we make in the database. The main idea behind triggers is that they always perform an action in case some event happens. If we’re talking about DML triggers, these changes shall be changes in our data."
   ]
  },
  {
   "cell_type": "markdown",
   "id": "244e49b4",
   "metadata": {
    "papermill": {
     "duration": 0.025768,
     "end_time": "2021-08-29T16:13:48.714524",
     "exception": false,
     "start_time": "2021-08-29T16:13:48.688756",
     "status": "completed"
    },
    "tags": []
   },
   "source": [
    "What is the difference between DELETE and TRUNCATE commands?\n",
    "TRUNCATE always removes all the rows from a table, leaving the table empty and the table structure intact whereas DELETE may remove conditionally if the where clause is used. The rows deleted by TRUNCATE TABLE statement cannot be restored and you can not specify the where clause in the TRUNCATE statement."
   ]
  },
  {
   "cell_type": "markdown",
   "id": "4e051ee9",
   "metadata": {
    "papermill": {
     "duration": 0.024813,
     "end_time": "2021-08-29T16:13:48.764523",
     "exception": false,
     "start_time": "2021-08-29T16:13:48.739710",
     "status": "completed"
    },
    "tags": []
   },
   "source": [
    "What are local and global variables and their differences?\n",
    "Local variable is declared inside a function whereas Global variable is declared outside the function. Local variables are created when the function has started execution and is lost when the function terminates, on the other hand, Global variable is created as execution starts and is lost when the program ends."
   ]
  },
  {
   "cell_type": "markdown",
   "id": "722972e7",
   "metadata": {
    "papermill": {
     "duration": 0.024952,
     "end_time": "2021-08-29T16:13:48.814616",
     "exception": false,
     "start_time": "2021-08-29T16:13:48.789664",
     "status": "completed"
    },
    "tags": []
   },
   "source": [
    "What is a constraint?\n",
    "SQL constraints are used to specify rules for the data in a table. Constraints are used to limit the type of data that can go into a table. This ensures the accuracy and reliability of the data in the table. If there is any violation between the constraint and the data action, the action is aborted.\n",
    "\n"
   ]
  },
  {
   "cell_type": "markdown",
   "id": "0146884c",
   "metadata": {
    "papermill": {
     "duration": 0.024692,
     "end_time": "2021-08-29T16:13:48.864500",
     "exception": false,
     "start_time": "2021-08-29T16:13:48.839808",
     "status": "completed"
    },
    "tags": []
   },
   "source": [
    "What is data Integrity?\n",
    "Data integrity is the overall accuracy, completeness, and consistency of data. Data integrity also refers to the safety of data in regard to regulatory compliance and security.\n"
   ]
  },
  {
   "cell_type": "markdown",
   "id": "f433d3ee",
   "metadata": {
    "papermill": {
     "duration": 0.025071,
     "end_time": "2021-08-29T16:13:48.914846",
     "exception": false,
     "start_time": "2021-08-29T16:13:48.889775",
     "status": "completed"
    },
    "tags": []
   },
   "source": [
    "What is Auto Increment?\n",
    "Auto-increment allows a unique number to be generated automatically when a new record is inserted into a table"
   ]
  },
  {
   "cell_type": "markdown",
   "id": "2a0fac3b",
   "metadata": {
    "papermill": {
     "duration": 0.025604,
     "end_time": "2021-08-29T16:13:48.965576",
     "exception": false,
     "start_time": "2021-08-29T16:13:48.939972",
     "status": "completed"
    },
    "tags": []
   },
   "source": [
    "What is the difference between Cluster and Non-Cluster Index?\n",
    "Clustered index is unique for any given table and we can have only one clustered index on a table. The leaf level of a clustered index is the actual data and the data is resorted in case of clustered index. Whereas in non-clustered index the leaf level is actually a pointer to the data in rows so we can have as many non-clustered indexes as we can on the database."
   ]
  },
  {
   "cell_type": "markdown",
   "id": "53cdf725",
   "metadata": {
    "papermill": {
     "duration": 0.025465,
     "end_time": "2021-08-29T16:13:49.016362",
     "exception": false,
     "start_time": "2021-08-29T16:13:48.990897",
     "status": "completed"
    },
    "tags": []
   },
   "source": [
    "What is Datawarehouse?\n",
    "A data warehouse is mainly a data management system that's designed to enable and support business intelligence (BI) activities, particularly analytics."
   ]
  },
  {
   "cell_type": "markdown",
   "id": "9f792e79",
   "metadata": {
    "papermill": {
     "duration": 0.024825,
     "end_time": "2021-08-29T16:13:49.066441",
     "exception": false,
     "start_time": "2021-08-29T16:13:49.041616",
     "status": "completed"
    },
    "tags": []
   },
   "source": [
    "What is Self-Join?\n",
    "A self join is a join of a table to itself. This table appears twice in the FROM clause and is followed by table aliases that qualify column names in the join condition."
   ]
  },
  {
   "cell_type": "markdown",
   "id": "a9933753",
   "metadata": {
    "papermill": {
     "duration": 0.025019,
     "end_time": "2021-08-29T16:13:49.117361",
     "exception": false,
     "start_time": "2021-08-29T16:13:49.092342",
     "status": "completed"
    },
    "tags": []
   },
   "source": [
    "What is Cross-Join?\n",
    "The CROSS JOIN is used to generate a paired combination of each row of the first table with each row of the second table."
   ]
  },
  {
   "cell_type": "markdown",
   "id": "b55911a3",
   "metadata": {
    "papermill": {
     "duration": 0.025705,
     "end_time": "2021-08-29T16:13:49.168398",
     "exception": false,
     "start_time": "2021-08-29T16:13:49.142693",
     "status": "completed"
    },
    "tags": []
   },
   "source": [
    "What is user defined functions?\n",
    "User-defined functions are functions that you use to organize your code in the body of a policy. Once you define a function, you can call it in the same way as the built-in action and parser functions. Variables that are passed to a function are passed by reference, rather than by value."
   ]
  },
  {
   "cell_type": "markdown",
   "id": "1cb0f5ab",
   "metadata": {
    "papermill": {
     "duration": 0.025207,
     "end_time": "2021-08-29T16:13:49.218910",
     "exception": false,
     "start_time": "2021-08-29T16:13:49.193703",
     "status": "completed"
    },
    "tags": []
   },
   "source": [
    "What are all types of user defined functions?\n",
    "There can be 4 different types of user-defined functions, they are:\n",
    "\n",
    "Function with no arguments and no return value Function with no arguments and a return value Function with arguments and no return value Function with arguments and a return value"
   ]
  },
  {
   "cell_type": "markdown",
   "id": "dabe2613",
   "metadata": {
    "papermill": {
     "duration": 0.025122,
     "end_time": "2021-08-29T16:13:49.269478",
     "exception": false,
     "start_time": "2021-08-29T16:13:49.244356",
     "status": "completed"
    },
    "tags": []
   },
   "source": [
    "What is collation?\n",
    "SQL Server collation refers to a set of character and character encoding rules, and influences how information is stored according to the order in the data page, how data is matched by comparing two columns, and how information is arranged in the T-SQL query statement.\n"
   ]
  },
  {
   "cell_type": "markdown",
   "id": "257896cb",
   "metadata": {
    "papermill": {
     "duration": 0.024934,
     "end_time": "2021-08-29T16:13:49.319774",
     "exception": false,
     "start_time": "2021-08-29T16:13:49.294840",
     "status": "completed"
    },
    "tags": []
   },
   "source": [
    "What are all different types of collation sensitivity?\n",
    "the different types of collation sensitivity:\n",
    "\n",
    "Case Sensitivity: A and a and B and b. Kana Sensitivity: Japanese Kana characters. Width Sensitivity: Single byte character and double-byte character. Accent Sensitivity.\n"
   ]
  },
  {
   "cell_type": "markdown",
   "id": "0e759a5f",
   "metadata": {
    "papermill": {
     "duration": 0.024633,
     "end_time": "2021-08-29T16:13:49.370428",
     "exception": false,
     "start_time": "2021-08-29T16:13:49.345795",
     "status": "completed"
    },
    "tags": []
   },
   "source": [
    "Advantages and Disadvantages of Stored Procedure?\n",
    "Advantages : The main advantages of stored procedure are:\n",
    "\n",
    "Better Performance Higher Productivity Ease of Use Scalability Security\n",
    "\n",
    "Disadvantages : Testing Debugging Versioning Cost Portability"
   ]
  },
  {
   "cell_type": "markdown",
   "id": "dd96ba27",
   "metadata": {
    "papermill": {
     "duration": 0.024962,
     "end_time": "2021-08-29T16:13:49.420572",
     "exception": false,
     "start_time": "2021-08-29T16:13:49.395610",
     "status": "completed"
    },
    "tags": []
   },
   "source": [
    "What is Online Transaction Processing (OLTP)?\n",
    "Online Transactional Processing, or OLTP, is a class of software program capable of supporting transaction-oriented applications on the internet. In computing, a transaction is a sequence of discrete information or data. Many everyday applications involve OLTP, from online banking, shopping, and POS terminals."
   ]
  },
  {
   "cell_type": "markdown",
   "id": "92121a8a",
   "metadata": {
    "papermill": {
     "duration": 0.024986,
     "end_time": "2021-08-29T16:13:49.470782",
     "exception": false,
     "start_time": "2021-08-29T16:13:49.445796",
     "status": "completed"
    },
    "tags": []
   },
   "source": [
    "What is CLAUSE?\n",
    "A clause is a part of a query that lets you filter or customizes how you want your data to be queried to you"
   ]
  },
  {
   "cell_type": "markdown",
   "id": "68bec473",
   "metadata": {
    "papermill": {
     "duration": 0.024899,
     "end_time": "2021-08-29T16:13:49.520887",
     "exception": false,
     "start_time": "2021-08-29T16:13:49.495988",
     "status": "completed"
    },
    "tags": []
   },
   "source": [
    "What is recursive stored procedure?\n",
    "Recursive stored procedure refers to a stored procedure which calls by itself until it reaches some boundary condition. This recursive function or procedure helps the programmers to use the same set of code n number of times."
   ]
  },
  {
   "cell_type": "markdown",
   "id": "7e47f237",
   "metadata": {
    "papermill": {
     "duration": 0.024891,
     "end_time": "2021-08-29T16:13:49.570969",
     "exception": false,
     "start_time": "2021-08-29T16:13:49.546078",
     "status": "completed"
    },
    "tags": []
   },
   "source": [
    "What is Union, minus and Interact commands\n",
    "\n",
    "The UNION operator is used to combining the results of two tables, and it eliminates duplicate rows from the tables.\n",
    "\n",
    "The MINUS operator is used to returning rows from the first query but not from the second query.\n",
    "\n",
    "The INTERSECT operator is used to return rows returned by both the queries."
   ]
  },
  {
   "cell_type": "markdown",
   "id": "54e9af40",
   "metadata": {
    "papermill": {
     "duration": 0.025345,
     "end_time": "2021-08-29T16:13:49.621633",
     "exception": false,
     "start_time": "2021-08-29T16:13:49.596288",
     "status": "completed"
    },
    "tags": []
   },
   "source": [
    "42A. What is an ALIAS command?\n",
    "\n",
    "alias is a command in various command-line interpreters (shells), which enables a replacement of a word by another string.\n",
    "\n",
    "ALIAS name can be given to a table or column. This alias name can be referred in WHERE clause to identify the table or column, Show.\n",
    "\n",
    "SQL ALIASES can be used to create a temporary name for columns or tables.\n",
    "\n",
    "COLUMN ALIASES are used to make column headings in your result set easier to read. TABLE ALIASES are used to shorten your SQL to make it easier to read or when you are performing a self join (ie: listing the same table more than once in the FROM clause)."
   ]
  },
  {
   "cell_type": "markdown",
   "id": "42bffa99",
   "metadata": {
    "papermill": {
     "duration": 0.025583,
     "end_time": "2021-08-29T16:13:49.672471",
     "exception": false,
     "start_time": "2021-08-29T16:13:49.646888",
     "status": "completed"
    },
    "tags": []
   },
   "source": [
    "What is the difference between TRUNCATE and DROP statements?\n",
    "The DROP command is used to remove table definition and its contents. Whereas the TRUNCATE command is used to delete all the rows from the table."
   ]
  },
  {
   "cell_type": "markdown",
   "id": "d33233e6",
   "metadata": {
    "papermill": {
     "duration": 0.024766,
     "end_time": "2021-08-29T16:13:49.722450",
     "exception": false,
     "start_time": "2021-08-29T16:13:49.697684",
     "status": "completed"
    },
    "tags": []
   },
   "source": [
    "What are aggregate and scalar functions?\n",
    "Aggregate functions operate against a collection of values and return a single summarizing value. Scalar functions return a single value based on scalar input arguments. Some scalar functions, such as CURRENT_TIME, do not require any arguments."
   ]
  },
  {
   "cell_type": "markdown",
   "id": "2ce1bcd8",
   "metadata": {
    "papermill": {
     "duration": 0.024878,
     "end_time": "2021-08-29T16:13:49.772469",
     "exception": false,
     "start_time": "2021-08-29T16:13:49.747591",
     "status": "completed"
    },
    "tags": []
   },
   "source": [
    "How can you create an empty table from an existing table?\n",
    "SQL CREATE TABLE AS statement to create a table from an existing table by copying the existing table's columns. This would create a new table that included all columns from the exisiting table, but no data from the table."
   ]
  },
  {
   "cell_type": "markdown",
   "id": "3a6d15b3",
   "metadata": {
    "papermill": {
     "duration": 0.025012,
     "end_time": "2021-08-29T16:13:49.822872",
     "exception": false,
     "start_time": "2021-08-29T16:13:49.797860",
     "status": "completed"
    },
    "tags": []
   },
   "source": [
    "How to fetch common records from two tables?\n",
    "you can use INTERSECT which gives you common records\n"
   ]
  },
  {
   "cell_type": "markdown",
   "id": "479dba31",
   "metadata": {
    "papermill": {
     "duration": 0.030382,
     "end_time": "2021-08-29T16:13:49.884460",
     "exception": false,
     "start_time": "2021-08-29T16:13:49.854078",
     "status": "completed"
    },
    "tags": []
   },
   "source": [
    "How to fetch alternate records from a table?\n",
    "\n",
    "We can use rownum and MOD function to retrieve the alternate records from a table"
   ]
  },
  {
   "cell_type": "markdown",
   "id": "50614534",
   "metadata": {
    "papermill": {
     "duration": 0.02516,
     "end_time": "2021-08-29T16:13:49.935178",
     "exception": false,
     "start_time": "2021-08-29T16:13:49.910018",
     "status": "completed"
    },
    "tags": []
   },
   "source": [
    " How do you display even numbers-.\n",
    "\n",
    "To select all the even number records from a table: Select * from table where id % 2 = 0\n",
    "\n"
   ]
  },
  {
   "cell_type": "markdown",
   "id": "f3c96cca",
   "metadata": {
    "papermill": {
     "duration": 0.025493,
     "end_time": "2021-08-29T16:13:49.991552",
     "exception": false,
     "start_time": "2021-08-29T16:13:49.966059",
     "status": "completed"
    },
    "tags": []
   },
   "source": [
    "How do you display odd numbers-.\n",
    "\n",
    "To select all the odd number records from a table: Select * from table where id % 2 != 0."
   ]
  },
  {
   "cell_type": "markdown",
   "id": "554cc16d",
   "metadata": {
    "papermill": {
     "duration": 0.025586,
     "end_time": "2021-08-29T16:13:50.043195",
     "exception": false,
     "start_time": "2021-08-29T16:13:50.017609",
     "status": "completed"
    },
    "tags": []
   },
   "source": [
    "How to select unique records from a table?\n",
    "\n",
    "The SELECT DISTINCT statement is used to return only distinct (different) values.How to select unique records from a table?"
   ]
  },
  {
   "cell_type": "markdown",
   "id": "6fae0231",
   "metadata": {
    "papermill": {
     "duration": 0.031106,
     "end_time": "2021-08-29T16:13:50.100586",
     "exception": false,
     "start_time": "2021-08-29T16:13:50.069480",
     "status": "completed"
    },
    "tags": []
   },
   "source": [
    "What is the command used to fetch first 5 characters of the string?\n",
    "Select SUBSTRING(name,1,5) as name from table"
   ]
  },
  {
   "cell_type": "markdown",
   "id": "0f8e43bd",
   "metadata": {
    "papermill": {
     "duration": 0.032276,
     "end_time": "2021-08-29T16:13:50.164664",
     "exception": false,
     "start_time": "2021-08-29T16:13:50.132388",
     "status": "completed"
    },
    "tags": []
   },
   "source": [
    "Which operator is used in query for pattern matching?\n",
    "LIKE operator LIKE operator is used for pattern matching"
   ]
  }
 ],
 "metadata": {
  "kernelspec": {
   "display_name": "Python 3",
   "language": "python",
   "name": "python3"
  },
  "language_info": {
   "codemirror_mode": {
    "name": "ipython",
    "version": 3
   },
   "file_extension": ".py",
   "mimetype": "text/x-python",
   "name": "python",
   "nbconvert_exporter": "python",
   "pygments_lexer": "ipython3",
   "version": "3.7.10"
  },
  "papermill": {
   "default_parameters": {},
   "duration": 11.285733,
   "end_time": "2021-08-29T16:13:50.808543",
   "environment_variables": {},
   "exception": null,
   "input_path": "__notebook__.ipynb",
   "output_path": "__notebook__.ipynb",
   "parameters": {},
   "start_time": "2021-08-29T16:13:39.522810",
   "version": "2.3.3"
  }
 },
 "nbformat": 4,
 "nbformat_minor": 5
}
